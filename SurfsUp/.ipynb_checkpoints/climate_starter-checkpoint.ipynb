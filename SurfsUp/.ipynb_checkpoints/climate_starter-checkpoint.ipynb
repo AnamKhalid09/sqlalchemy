{
 "cells": [
  {
   "cell_type": "code",
   "execution_count": 17,
   "metadata": {},
   "outputs": [],
   "source": [
    "%matplotlib inline\n",
    "from matplotlib import style\n",
    "style.use('fivethirtyeight')\n",
    "import matplotlib.pyplot as plt"
   ]
  },
  {
   "cell_type": "code",
   "execution_count": 18,
   "metadata": {},
   "outputs": [],
   "source": [
    "import numpy as np\n",
    "import pandas as pd\n",
    "import datetime as dt"
   ]
  },
  {
   "cell_type": "markdown",
   "metadata": {},
   "source": [
    "# Reflect Tables into SQLAlchemy ORM"
   ]
  },
  {
   "cell_type": "code",
   "execution_count": 19,
   "metadata": {},
   "outputs": [],
   "source": [
    "# Python SQL toolkit and Object Relational Mapper\n",
    "import sqlalchemy\n",
    "from sqlalchemy.ext.automap import automap_base\n",
    "from sqlalchemy.orm import Session\n",
    "from sqlalchemy import create_engine, func"
   ]
  },
  {
   "cell_type": "code",
   "execution_count": 20,
   "metadata": {},
   "outputs": [],
   "source": [
    "# create engine to hawaii.sqlite\n",
    "engine = create_engine(\"sqlite:///Resources/hawaii.sqlite\")"
   ]
  },
  {
   "cell_type": "code",
   "execution_count": 21,
   "metadata": {},
   "outputs": [],
   "source": [
    "# reflect an existing database into a new model\n",
    "Base = automap_base()\n",
    "\n",
    "# reflect the tables\n",
    "Base.prepare(engine, reflect=True)"
   ]
  },
  {
   "cell_type": "code",
   "execution_count": 22,
   "metadata": {},
   "outputs": [
    {
     "data": {
      "text/plain": [
       "['measurement', 'station']"
      ]
     },
     "execution_count": 22,
     "metadata": {},
     "output_type": "execute_result"
    }
   ],
   "source": [
    "# View all of the classes that automap found\n",
    "Base.classes.keys()"
   ]
  },
  {
   "cell_type": "code",
   "execution_count": 23,
   "metadata": {},
   "outputs": [],
   "source": [
    "# Save references to each table\n",
    "Measurement = Base.classes.measurement\n",
    "Station = Base.classes.station"
   ]
  },
  {
   "cell_type": "code",
   "execution_count": 24,
   "metadata": {},
   "outputs": [],
   "source": [
    "# Create our session (link) from Python to the DB\n",
    "session = Session(engine)"
   ]
  },
  {
   "cell_type": "code",
   "execution_count": 25,
   "metadata": {},
   "outputs": [
    {
     "data": {
      "text/plain": [
       "[(0, 'USC00519397', '2010-01-01', 2.0, 18.3),\n",
       " (1, 'USC00519397', '2010-01-02', 0.0, 17.2),\n",
       " (2, 'USC00519397', '2010-01-03', 0.0, 23.3),\n",
       " (3, 'USC00519397', '2010-01-04', 0.0, 24.4),\n",
       " (4, 'USC00519397', '2010-01-06', None, 22.8)]"
      ]
     },
     "execution_count": 25,
     "metadata": {},
     "output_type": "execute_result"
    }
   ],
   "source": [
    "# Using engine to find out the data\n",
    "engine.execute('SELECT * FROM measurement LIMIT 5').fetchall()"
   ]
  },
  {
   "cell_type": "code",
   "execution_count": 26,
   "metadata": {},
   "outputs": [
    {
     "name": "stdout",
     "output_type": "stream",
     "text": [
      "id INTEGER\n",
      "station TEXT\n",
      "date TEXT\n",
      "prcp FLOAT\n",
      "tobs FLOAT\n"
     ]
    }
   ],
   "source": [
    "# Using inspector to find the column names\n",
    "from sqlalchemy import inspect\n",
    "\n",
    "inspector = inspect(engine)\n",
    "columns = inspector.get_columns('measurement')\n",
    "for c in columns:\n",
    "    print(c['name'], c[\"type\"])"
   ]
  },
  {
   "cell_type": "markdown",
   "metadata": {},
   "source": [
    "# Exploratory Precipitation Analysis"
   ]
  },
  {
   "cell_type": "code",
   "execution_count": 27,
   "metadata": {},
   "outputs": [
    {
     "data": {
      "text/plain": [
       "('2017-08-23',)"
      ]
     },
     "execution_count": 27,
     "metadata": {},
     "output_type": "execute_result"
    }
   ],
   "source": [
    "# Find the most recent date in the data set.\n",
    "session.query(Measurement.date).order_by(Measurement.date.desc()).first()"
   ]
  },
  {
   "cell_type": "code",
   "execution_count": 32,
   "metadata": {},
   "outputs": [
    {
     "name": "stdout",
     "output_type": "stream",
     "text": [
      "Query Date:  2016-08-23\n"
     ]
    },
    {
     "data": {
      "image/png": "[encoded data removed]",
      "text/plain": [
       "<Figure size 432x360 with 1 Axes>"
      ]
     },
     "metadata": {},
     "output_type": "display_data"
    }
   ],
   "source": [
    "# Design a query to retrieve the last 12 months of precipitation data and plot the results. \n",
    "# Starting from the most recent data point in the database. \n",
    "\n",
    "# Calculate the date one year from the last date in data set.\n",
    "query_date = dt.date(2017, 8, 23) - dt.timedelta(days=365)\n",
    "print(\"Query Date: \", query_date)\n",
    "\n",
    "# Perform a query to retrieve the data and precipitation scores\n",
    "Query=session.query(Measurement.date, Measurement.prcp).filter(Measurement.date >= query_date).all()\n",
    "# Save the query results as a Pandas DataFrame and set the index to the date column\n",
    "precipitation_query=pd.DataFrame(Query)\n",
    "precipitation_query.set_index((\"date\"),inplace=True)\n",
    "precipitation_query\n",
    "# Sort the dataframe by date\n",
    "sorted_prcp_data=precipitation_query.sort_values(\"date\")\n",
    "sorted_prcp_data\n",
    "# Use Pandas Plotting with Matplotlib to plot the data\n",
    "sorted_prcp_data.plot(figsize=(6,5), rot=90) \n",
    "plt.title(\"Precipitation\")\n",
    "plt.xlabel(\"Date\")\n",
    "plt.ylabel(\"mm\")\n",
    "plt.show()\n"
   ]
  },
  {
   "cell_type": "code",
   "execution_count": 42,
   "metadata": {},
   "outputs": [
    {
     "data": {
      "text/html": [
       "<div>\n",
       "<style scoped>\n",
       "    .dataframe tbody tr th:only-of-type {\n",
       "        vertical-align: middle;\n",
       "    }\n",
       "\n",
       "    .dataframe tbody tr th {\n",
       "        vertical-align: top;\n",
       "    }\n",
       "\n",
       "    .dataframe thead th {\n",
       "        text-align: right;\n",
       "    }\n",
       "</style>\n",
       "<table border=\"1\" class=\"dataframe\">\n",
       "  <thead>\n",
       "    <tr style=\"text-align: right;\">\n",
       "      <th></th>\n",
       "      <th>prcp</th>\n",
       "    </tr>\n",
       "  </thead>\n",
       "  <tbody>\n",
       "    <tr>\n",
       "      <th>count</th>\n",
       "      <td>18103.000000</td>\n",
       "    </tr>\n",
       "    <tr>\n",
       "      <th>mean</th>\n",
       "      <td>4.083920</td>\n",
       "    </tr>\n",
       "    <tr>\n",
       "      <th>std</th>\n",
       "      <td>11.905419</td>\n",
       "    </tr>\n",
       "    <tr>\n",
       "      <th>min</th>\n",
       "      <td>0.000000</td>\n",
       "    </tr>\n",
       "    <tr>\n",
       "      <th>25%</th>\n",
       "      <td>0.000000</td>\n",
       "    </tr>\n",
       "    <tr>\n",
       "      <th>50%</th>\n",
       "      <td>0.300000</td>\n",
       "    </tr>\n",
       "    <tr>\n",
       "      <th>75%</th>\n",
       "      <td>2.800000</td>\n",
       "    </tr>\n",
       "    <tr>\n",
       "      <th>max</th>\n",
       "      <td>292.900000</td>\n",
       "    </tr>\n",
       "  </tbody>\n",
       "</table>\n",
       "</div>"
      ],
      "text/plain": [
       "               prcp\n",
       "count  18103.000000\n",
       "mean       4.083920\n",
       "std       11.905419\n",
       "min        0.000000\n",
       "25%        0.000000\n",
       "50%        0.300000\n",
       "75%        2.800000\n",
       "max      292.900000"
      ]
     },
     "execution_count": 42,
     "metadata": {},
     "output_type": "execute_result"
    }
   ],
   "source": [
    "# Use Pandas to calcualte the summary statistics for the precipitation data\n",
    "sorted_prcp_data.describe()"
   ]
  },
  {
   "cell_type": "markdown",
   "metadata": {},
   "source": [
    "# Exploratory Station Analysis"
   ]
  },
  {
   "cell_type": "code",
   "execution_count": 39,
   "metadata": {},
   "outputs": [
    {
     "data": {
      "text/plain": [
       "[(0, 'USC00519397', 'WAIKIKI 717.2, HI US', 21.2716, -157.8168, 0.914),\n",
       " (1, 'USC00513117', 'KANEOHE 838.1, HI US', 21.4234, -157.8015, 4.45),\n",
       " (2, 'USC00514830', 'KUALOA RANCH HEADQUARTERS 886.9, HI US', 21.5213, -157.8374, 2.133),\n",
       " (3, 'USC00517948', 'PEARL CITY, HI US', 21.3934, -157.9751, 3.627),\n",
       " (4, 'USC00518838', 'UPPER WAHIAWA 874.3, HI US', 21.4992, -158.0111, 93.447)]"
      ]
     },
     "execution_count": 39,
     "metadata": {},
     "output_type": "execute_result"
    }
   ],
   "source": [
    "# Using engine to find out the data\n",
    "engine.execute('SELECT * FROM station LIMIT 5').fetchall()"
   ]
  },
  {
   "cell_type": "code",
   "execution_count": 40,
   "metadata": {},
   "outputs": [
    {
     "name": "stdout",
     "output_type": "stream",
     "text": [
      "id INTEGER\n",
      "station TEXT\n",
      "name TEXT\n",
      "latitude FLOAT\n",
      "longitude FLOAT\n",
      "elevation FLOAT\n"
     ]
    }
   ],
   "source": [
    "# Using inspector to find the column names\n",
    "inspector = inspect(engine)\n",
    "columns = inspector.get_columns('station')\n",
    "for c in columns:\n",
    "    print(c['name'], c[\"type\"])"
   ]
  },
  {
   "cell_type": "code",
   "execution_count": 34,
   "metadata": {},
   "outputs": [
    {
     "data": {
      "text/plain": [
       "9"
      ]
     },
     "execution_count": 34,
     "metadata": {},
     "output_type": "execute_result"
    }
   ],
   "source": [
    "# Design a query to calculate the total number stations in the dataset\n",
    "total_num_station=session.query(Station.station).count()\n",
    "total_num_station"
   ]
  },
  {
   "cell_type": "code",
   "execution_count": 48,
   "metadata": {},
   "outputs": [
    {
     "data": {
      "text/plain": [
       "[('USC00519281', 2772),\n",
       " ('USC00519397', 2724),\n",
       " ('USC00513117', 2709),\n",
       " ('USC00519523', 2669),\n",
       " ('USC00516128', 2612),\n",
       " ('USC00514830', 2202),\n",
       " ('USC00511918', 1979),\n",
       " ('USC00517948', 1372),\n",
       " ('USC00518838', 511)]"
      ]
     },
     "execution_count": 48,
     "metadata": {},
     "output_type": "execute_result"
    }
   ],
   "source": [
    "# Design a query to find the most active stations (i.e. what stations have the most rows?)\n",
    "# List the stations and the counts in descending order.\n",
    "most_active = (session.query(Measurement.station, func.count(Measurement.id)).group_by(Measurement.station)).order_by(func.count(Measurement.id).desc()).all()\n",
    "most_active "
   ]
  },
  {
   "cell_type": "code",
   "execution_count": 84,
   "metadata": {},
   "outputs": [
    {
     "data": {
      "text/plain": [
       "[('USC00519281', 29.4)]"
      ]
     },
     "execution_count": 84,
     "metadata": {},
     "output_type": "execute_result"
    }
   ],
   "source": [
    "# Using the most active station id from the previous query, calculate the lowest, highest, and average temperature.\n",
    "highest_temperature=session.query(Measurement.station,func.max(Measurement.tobs)).filter(Measurement.station == \"USC00519281\").all()\n",
    "highest_temperature   \n",
    "lowest_temperature=session.query(Measurement.station,func.min(Measurement.tobs)).filter(Measurement.station == \"USC00519281\").all()\n",
    "lowest_temperature\n",
    "average_temperature=session.query(Measurement.station,func.avg(Measurement.tobs)).filter(Measurement.station == \"USC00519281\").all()\n",
    "average_temperature"
   ]
  },
  {
   "cell_type": "code",
   "execution_count": 89,
   "metadata": {},
   "outputs": [
    {
     "data": {
      "text/plain": [
       "[('USC00519281', 25.0),\n",
       " ('USC00519281', 26.7),\n",
       " ('USC00519281', 26.7),\n",
       " ('USC00519281', 23.9),\n",
       " ('USC00519281', 22.8),\n",
       " ('USC00519281', 25.6),\n",
       " ('USC00519281', 25.0),\n",
       " ('USC00519281', 25.6),\n",
       " ('USC00519281', 26.7),\n",
       " ('USC00519281', 26.7),\n",
       " ('USC00519281', 25.6),\n",
       " ('USC00519281', 25.6),\n",
       " ('USC00519281', 25.6),\n",
       " ('USC00519281', 22.8),\n",
       " ('USC00519281', 23.3),\n",
       " ('USC00519281', 26.7),\n",
       " ('USC00519281', 26.1),\n",
       " ('USC00519281', 25.0),\n",
       " ('USC00519281', 26.7),\n",
       " ('USC00519281', 24.4),\n",
       " ('USC00519281', 26.1),\n",
       " ('USC00519281', 23.9),\n",
       " ('USC00519281', 26.1),\n",
       " ('USC00519281', 25.6),\n",
       " ('USC00519281', 26.1),\n",
       " ('USC00519281', 25.6),\n",
       " ('USC00519281', 25.6),\n",
       " ('USC00519281', 24.4),\n",
       " ('USC00519281', 23.3),\n",
       " ('USC00519281', 25.0),\n",
       " ('USC00519281', 25.6),\n",
       " ('USC00519281', 26.1),\n",
       " ('USC00519281', 26.1),\n",
       " ('USC00519281', 25.0),\n",
       " ('USC00519281', 26.7),\n",
       " ('USC00519281', 25.6),\n",
       " ('USC00519281', 25.6),\n",
       " ('USC00519281', 25.6),\n",
       " ('USC00519281', 25.0),\n",
       " ('USC00519281', 26.1),\n",
       " ('USC00519281', 26.1),\n",
       " ('USC00519281', 26.1),\n",
       " ('USC00519281', 26.1),\n",
       " ('USC00519281', 23.9),\n",
       " ('USC00519281', 24.4),\n",
       " ('USC00519281', 22.8),\n",
       " ('USC00519281', 22.2),\n",
       " ('USC00519281', 21.7),\n",
       " ('USC00519281', 25.0),\n",
       " ('USC00519281', 26.1),\n",
       " ('USC00519281', 25.6),\n",
       " ('USC00519281', 26.1),\n",
       " ('USC00519281', 25.0),\n",
       " ('USC00519281', 26.1),\n",
       " ('USC00519281', 25.0),\n",
       " ('USC00519281', 25.6),\n",
       " ('USC00519281', 25.6),\n",
       " ('USC00519281', 25.6),\n",
       " ('USC00519281', 25.6),\n",
       " ('USC00519281', 25.0),\n",
       " ('USC00519281', 23.3),\n",
       " ('USC00519281', 23.9),\n",
       " ('USC00519281', 24.4),\n",
       " ('USC00519281', 22.8),\n",
       " ('USC00519281', 24.4),\n",
       " ('USC00519281', 23.3),\n",
       " ('USC00519281', 25.0),\n",
       " ('USC00519281', 24.4),\n",
       " ('USC00519281', 24.4),\n",
       " ('USC00519281', 23.3),\n",
       " ('USC00519281', 23.9),\n",
       " ('USC00519281', 23.9),\n",
       " ('USC00519281', 23.9),\n",
       " ('USC00519281', 23.9),\n",
       " ('USC00519281', 21.7),\n",
       " ('USC00519281', 17.2),\n",
       " ('USC00519281', 21.1),\n",
       " ('USC00519281', 20.0),\n",
       " ('USC00519281', 19.4),\n",
       " ('USC00519281', 25.0),\n",
       " ('USC00519281', 23.3),\n",
       " ('USC00519281', 25.0),\n",
       " ('USC00519281', 24.4),\n",
       " ('USC00519281', 24.4),\n",
       " ('USC00519281', 23.9),\n",
       " ('USC00519281', 24.4),\n",
       " ('USC00519281', 23.9),\n",
       " ('USC00519281', 22.8),\n",
       " ('USC00519281', 23.9),\n",
       " ('USC00519281', 22.8),\n",
       " ('USC00519281', 23.9),\n",
       " ('USC00519281', 23.3),\n",
       " ('USC00519281', 23.9),\n",
       " ('USC00519281', 23.3),\n",
       " ('USC00519281', 23.9),\n",
       " ('USC00519281', 22.8),\n",
       " ('USC00519281', 23.9),\n",
       " ('USC00519281', 22.8),\n",
       " ('USC00519281', 22.8),\n",
       " ('USC00519281', 23.3),\n",
       " ('USC00519281', 21.1),\n",
       " ('USC00519281', 22.2),\n",
       " ('USC00519281', 21.1),\n",
       " ('USC00519281', 19.4),\n",
       " ('USC00519281', 19.4),\n",
       " ('USC00519281', 20.6),\n",
       " ('USC00519281', 21.1),\n",
       " ('USC00519281', 20.0),\n",
       " ('USC00519281', 20.6),\n",
       " ('USC00519281', 20.6),\n",
       " ('USC00519281', 18.9),\n",
       " ('USC00519281', 18.3),\n",
       " ('USC00519281', 20.0),\n",
       " ('USC00519281', 16.7),\n",
       " ('USC00519281', 23.9),\n",
       " ('USC00519281', 21.1),\n",
       " ('USC00519281', 20.6),\n",
       " ('USC00519281', 24.4),\n",
       " ('USC00519281', 24.4),\n",
       " ('USC00519281', 23.3),\n",
       " ('USC00519281', 22.8),\n",
       " ('USC00519281', 21.7),\n",
       " ('USC00519281', 23.3),\n",
       " ('USC00519281', 23.3),\n",
       " ('USC00519281', 22.2),\n",
       " ('USC00519281', 21.7),\n",
       " ('USC00519281', 22.2),\n",
       " ('USC00519281', 23.3),\n",
       " ('USC00519281', 20.6),\n",
       " ('USC00519281', 19.4),\n",
       " ('USC00519281', 22.2),\n",
       " ('USC00519281', 21.1),\n",
       " ('USC00519281', 17.8),\n",
       " ('USC00519281', 17.2),\n",
       " ('USC00519281', 17.2),\n",
       " ('USC00519281', 16.7),\n",
       " ('USC00519281', 21.1),\n",
       " ('USC00519281', 21.1),\n",
       " ('USC00519281', 16.7),\n",
       " ('USC00519281', 16.7),\n",
       " ('USC00519281', 17.2),\n",
       " ('USC00519281', 18.3),\n",
       " ('USC00519281', 20.6),\n",
       " ('USC00519281', 25.0),\n",
       " ('USC00519281', 21.1),\n",
       " ('USC00519281', 23.3),\n",
       " ('USC00519281', 20.6),\n",
       " ('USC00519281', 22.2),\n",
       " ('USC00519281', 21.7),\n",
       " ('USC00519281', 20.6),\n",
       " ('USC00519281', 21.7),\n",
       " ('USC00519281', 21.7),\n",
       " ('USC00519281', 22.2),\n",
       " ('USC00519281', 22.2),\n",
       " ('USC00519281', 20.6),\n",
       " ('USC00519281', 21.1),\n",
       " ('USC00519281', 18.9),\n",
       " ('USC00519281', 18.3),\n",
       " ('USC00519281', 20.6),\n",
       " ('USC00519281', 20.0),\n",
       " ('USC00519281', 20.0),\n",
       " ('USC00519281', 20.0),\n",
       " ('USC00519281', 15.0),\n",
       " ('USC00519281', 15.6),\n",
       " ('USC00519281', 21.1),\n",
       " ('USC00519281', 22.8),\n",
       " ('USC00519281', 23.9),\n",
       " ('USC00519281', 17.8),\n",
       " ('USC00519281', 15.0),\n",
       " ('USC00519281', 15.0),\n",
       " ('USC00519281', 16.7),\n",
       " ('USC00519281', 20.0),\n",
       " ('USC00519281', 21.1),\n",
       " ('USC00519281', 22.8),\n",
       " ('USC00519281', 26.1),\n",
       " ('USC00519281', 23.9),\n",
       " ('USC00519281', 18.3),\n",
       " ('USC00519281', 21.1),\n",
       " ('USC00519281', 23.3),\n",
       " ('USC00519281', 21.1),\n",
       " ('USC00519281', 21.1),\n",
       " ('USC00519281', 21.7),\n",
       " ('USC00519281', 21.7),\n",
       " ('USC00519281', 21.7),\n",
       " ('USC00519281', 20.6),\n",
       " ('USC00519281', 16.1),\n",
       " ('USC00519281', 19.4),\n",
       " ('USC00519281', 18.3),\n",
       " ('USC00519281', 22.2),\n",
       " ('USC00519281', 21.7),\n",
       " ('USC00519281', 22.8),\n",
       " ('USC00519281', 22.2),\n",
       " ('USC00519281', 25.0),\n",
       " ('USC00519281', 22.8),\n",
       " ('USC00519281', 19.4),\n",
       " ('USC00519281', 16.7),\n",
       " ('USC00519281', 17.8),\n",
       " ('USC00519281', 19.4),\n",
       " ('USC00519281', 18.9),\n",
       " ('USC00519281', 27.2),\n",
       " ('USC00519281', 20.6),\n",
       " ('USC00519281', 18.9),\n",
       " ('USC00519281', 19.4),\n",
       " ('USC00519281', 20.6),\n",
       " ('USC00519281', 18.9),\n",
       " ('USC00519281', 20.0),\n",
       " ('USC00519281', 18.3),\n",
       " ('USC00519281', 23.3),\n",
       " ('USC00519281', 20.6),\n",
       " ('USC00519281', 22.2),\n",
       " ('USC00519281', 22.8),\n",
       " ('USC00519281', 22.2),\n",
       " ('USC00519281', 21.7),\n",
       " ('USC00519281', 24.4),\n",
       " ('USC00519281', 25.0),\n",
       " ('USC00519281', 24.4),\n",
       " ('USC00519281', 23.3),\n",
       " ('USC00519281', 20.0),\n",
       " ('USC00519281', 22.8),\n",
       " ('USC00519281', 21.7),\n",
       " ('USC00519281', 23.3),\n",
       " ('USC00519281', 23.9),\n",
       " ('USC00519281', 21.1),\n",
       " ('USC00519281', 19.4),\n",
       " ('USC00519281', 21.7),\n",
       " ('USC00519281', 19.4),\n",
       " ('USC00519281', 23.3),\n",
       " ('USC00519281', 25.0),\n",
       " ('USC00519281', 25.6),\n",
       " ('USC00519281', 19.4),\n",
       " ('USC00519281', 21.1),\n",
       " ('USC00519281', 20.6),\n",
       " ('USC00519281', 20.6),\n",
       " ('USC00519281', 23.3),\n",
       " ('USC00519281', 25.6),\n",
       " ('USC00519281', 21.7),\n",
       " ('USC00519281', 19.4),\n",
       " ('USC00519281', 20.0),\n",
       " ('USC00519281', 19.4),\n",
       " ('USC00519281', 24.4),\n",
       " ('USC00519281', 20.6),\n",
       " ('USC00519281', 22.2),\n",
       " ('USC00519281', 24.4),\n",
       " ('USC00519281', 20.0),\n",
       " ('USC00519281', 22.2),\n",
       " ('USC00519281', 23.3),\n",
       " ('USC00519281', 21.1),\n",
       " ('USC00519281', 19.4),\n",
       " ('USC00519281', 22.2),\n",
       " ('USC00519281', 15.6),\n",
       " ('USC00519281', 18.3),\n",
       " ('USC00519281', 23.9),\n",
       " ('USC00519281', 21.1),\n",
       " ('USC00519281', 23.9),\n",
       " ('USC00519281', 21.1),\n",
       " ('USC00519281', 26.1),\n",
       " ('USC00519281', 23.9),\n",
       " ('USC00519281', 21.1),\n",
       " ('USC00519281', 19.4),\n",
       " ('USC00519281', 23.3),\n",
       " ('USC00519281', 21.1),\n",
       " ('USC00519281', 23.9),\n",
       " ('USC00519281', 24.4),\n",
       " ('USC00519281', 25.0),\n",
       " ('USC00519281', 23.3),\n",
       " ('USC00519281', 23.3),\n",
       " ('USC00519281', 23.3),\n",
       " ('USC00519281', 20.6),\n",
       " ('USC00519281', 20.0),\n",
       " ('USC00519281', 24.4),\n",
       " ('USC00519281', 23.3),\n",
       " ('USC00519281', 21.7),\n",
       " ('USC00519281', 21.7),\n",
       " ('USC00519281', 23.3),\n",
       " ('USC00519281', 23.3),\n",
       " ('USC00519281', 23.3),\n",
       " ('USC00519281', 23.3),\n",
       " ('USC00519281', 26.7),\n",
       " ('USC00519281', 23.3),\n",
       " ('USC00519281', 22.2),\n",
       " ('USC00519281', 23.9),\n",
       " ('USC00519281', 26.7),\n",
       " ('USC00519281', 24.4),\n",
       " ('USC00519281', 24.4),\n",
       " ('USC00519281', 25.0),\n",
       " ('USC00519281', 23.9),\n",
       " ('USC00519281', 23.9),\n",
       " ('USC00519281', 23.9),\n",
       " ('USC00519281', 23.9),\n",
       " ('USC00519281', 22.2),\n",
       " ('USC00519281', 23.3),\n",
       " ('USC00519281', 23.3),\n",
       " ('USC00519281', 23.3),\n",
       " ('USC00519281', 24.4),\n",
       " ('USC00519281', 23.3),\n",
       " ('USC00519281', 23.9),\n",
       " ('USC00519281', 22.8),\n",
       " ('USC00519281', 26.1),\n",
       " ('USC00519281', 23.9),\n",
       " ('USC00519281', 22.2),\n",
       " ('USC00519281', 22.2),\n",
       " ('USC00519281', 23.3),\n",
       " ('USC00519281', 22.2),\n",
       " ('USC00519281', 22.2),\n",
       " ('USC00519281', 25.0),\n",
       " ('USC00519281', 21.7),\n",
       " ('USC00519281', 22.8),\n",
       " ('USC00519281', 24.4),\n",
       " ('USC00519281', 25.0),\n",
       " ('USC00519281', 24.4),\n",
       " ('USC00519281', 24.4),\n",
       " ('USC00519281', 26.1),\n",
       " ('USC00519281', 27.2),\n",
       " ('USC00519281', 24.4),\n",
       " ('USC00519281', 25.6),\n",
       " ('USC00519281', 25.0),\n",
       " ('USC00519281', 23.3),\n",
       " ('USC00519281', 23.9),\n",
       " ('USC00519281', 25.6),\n",
       " ('USC00519281', 25.6),\n",
       " ('USC00519281', 20.6),\n",
       " ('USC00519281', 22.2),\n",
       " ('USC00519281', 23.3),\n",
       " ('USC00519281', 23.3),\n",
       " ('USC00519281', 24.4),\n",
       " ('USC00519281', 26.7),\n",
       " ('USC00519281', 26.7),\n",
       " ('USC00519281', 24.4),\n",
       " ('USC00519281', 24.4),\n",
       " ('USC00519281', 24.4),\n",
       " ('USC00519281', 25.0),\n",
       " ('USC00519281', 25.0),\n",
       " ('USC00519281', 25.0),\n",
       " ('USC00519281', 27.8),\n",
       " ('USC00519281', 23.9),\n",
       " ('USC00519281', 25.0),\n",
       " ('USC00519281', 23.9),\n",
       " ('USC00519281', 24.4),\n",
       " ('USC00519281', 27.2),\n",
       " ('USC00519281', 27.8),\n",
       " ('USC00519281', 27.2),\n",
       " ('USC00519281', 24.4),\n",
       " ('USC00519281', 25.0),\n",
       " ('USC00519281', 27.8),\n",
       " ('USC00519281', 28.3),\n",
       " ('USC00519281', 25.0),\n",
       " ('USC00519281', 25.0),\n",
       " ('USC00519281', 25.0),\n",
       " ('USC00519281', 24.4),\n",
       " ('USC00519281', 24.4),\n",
       " ('USC00519281', 26.1)]"
      ]
     },
     "execution_count": 89,
     "metadata": {},
     "output_type": "execute_result"
    }
   ],
   "source": [
    "# Using the most active station id\n",
    "# Query the last 12 months of temperature observation data for this station and plot the results as a histogram\n",
    "twelve_month_temp = session.query(Measurement.station, Measurement.tobs)\\\n",
    "    .filter(Measurement.date > '2016-08-23')\\\n",
    "    .filter(Measurement.date <= '2017-08-23')\\\n",
    "    .filter(Measurement.station == \"USC00519281\").all()\n",
    "twelve_month_temp\n",
    "# conveting into a Dataframe for histogram\n",
    "station_temp_df = pd.DataFrame(twelve_month_temp)\n",
    "station_temp_df\n",
    "\n",
    "# plotting histogram \n",
    "station_temp_df.plot.hist(bins=10, color=\"b\")\n",
    "plt.title(\"Temperature Observations for Station USC00519281\")\n",
    "plt.xlabel(\"Temperature\")\n",
    "plt.ylabel(\"Observation Frequency\")\n",
    "# plt.savefig(\"Images/histogram_tobs.png\")\n",
    "plt.show()"
   ]
  },
  {
   "cell_type": "markdown",
   "metadata": {},
   "source": [
    "# Close session"
   ]
  },
  {
   "cell_type": "code",
   "execution_count": 97,
   "metadata": {},
   "outputs": [
    {
     "data": {
      "image/png": "[encoded data removed]",
      "text/plain": [
       "<Figure size 432x288 with 1 Axes>"
      ]
     },
     "metadata": {},
     "output_type": "display_data"
    }
   ],
   "source": [
    "\n",
    "station_temp_df = pd.DataFrame(twelve_month_temp)\n",
    "station_temp_df\n",
    "\n",
    "station_temp_df.plot.hist(bins=10, color=\"b\")\n",
    "plt.title(\"Temperature Observations for Station USC00519281\")\n",
    "plt.xlabel(\"Temperature\")\n",
    "plt.ylabel(\"Observation Frequency\")\n",
    "# plt.savefig(\"Images/histogram_tobs.png\")\n",
    "plt.show()"
   ]
  },
  {
   "cell_type": "code",
   "execution_count": 98,
   "metadata": {},
   "outputs": [],
   "source": [
    "# Close Session\n",
    "session.close()"
   ]
  }
 ],
 "metadata": {
  "anaconda-cloud": {},
  "kernel_info": {
   "name": "python3"
  },
  "kernelspec": {
   "display_name": "Python 3 (ipykernel)",
   "language": "python",
   "name": "python3"
  },
  "language_info": {
   "codemirror_mode": {
    "name": "ipython",
    "version": 3
   },
   "file_extension": ".py",
   "mimetype": "text/x-python",
   "name": "python",
   "nbconvert_exporter": "python",
   "pygments_lexer": "ipython3",
   "version": "3.9.12"
  },
  "nteract": {
   "version": "0.12.3"
  },
  "varInspector": {
   "cols": {
    "lenName": 16,
    "lenType": 16,
    "lenVar": 40
   },
   "kernels_config": {
    "python": {
     "delete_cmd_postfix": "",
     "delete_cmd_prefix": "del ",
     "library": "var_list.py",
     "varRefreshCmd": "print(var_dic_list())"
    },
    "r": {
     "delete_cmd_postfix": ") ",
     "delete_cmd_prefix": "rm(",
     "library": "var_list.r",
     "varRefreshCmd": "cat(var_dic_list()) "
    }
   },
   "types_to_exclude": [
    "module",
    "function",
    "builtin_function_or_method",
    "instance",
    "_Feature"
   ],
   "window_display": false
  }
 },
 "nbformat": 4,
 "nbformat_minor": 2
}
